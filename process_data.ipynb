{
 "cells": [
  {
   "cell_type": "markdown",
   "metadata": {},
   "source": [
    "# Simple largest price drop program\n",
    "\n",
    "\n",
    "Prerequisite:\n",
    "- go to nintendo.com\n",
    "- load all games you want\n",
    "- view page source\n",
    "- copy ul (class='game-list-results-container')\n",
    "- paste to data.txt\n",
    "- run script"
   ]
  },
  {
   "cell_type": "code",
   "execution_count": 1,
   "metadata": {},
   "outputs": [],
   "source": [
    "from bs4 import BeautifulSoup\n",
    "\n",
    "data = open('data.txt', 'r').read()\n",
    "soup = BeautifulSoup(data, 'html.parser')"
   ]
  },
  {
   "cell_type": "code",
   "execution_count": 2,
   "metadata": {},
   "outputs": [],
   "source": [
    "class save_data_object:\n",
    "    def __init__(self, msrp, sale_price, name):\n",
    "        self.msrp = float(msrp)\n",
    "        self.sale_price = float(sale_price)\n",
    "        self.price_drop = self.msrp - self.sale_price\n",
    "        self.percent_drop = (self.msrp - self.sale_price)/self.msrp * 100\n",
    "        self.name = name"
   ]
  },
  {
   "cell_type": "code",
   "execution_count": 3,
   "metadata": {},
   "outputs": [],
   "source": [
    "result = soup.find_all(\"ul\", {\"class\": \"game-list-results-container\"})\n",
    "x = result[0].find_all('game-tile')\n",
    "# x = soup.ul.find_all('game-tile')"
   ]
  },
  {
   "cell_type": "code",
   "execution_count": 4,
   "metadata": {},
   "outputs": [],
   "source": [
    "# x[:1]"
   ]
  },
  {
   "cell_type": "code",
   "execution_count": 5,
   "metadata": {},
   "outputs": [],
   "source": [
    "# x"
   ]
  },
  {
   "cell_type": "code",
   "execution_count": 6,
   "metadata": {},
   "outputs": [],
   "source": [
    "#x[0].get('date')\n",
    "def myfunc(n):\n",
    "    return save_data_object(n.get('msrp')[1:], n.get('sale-price')[1:], n.h3.string)\n",
    "x = list(map(myfunc, x))"
   ]
  },
  {
   "cell_type": "code",
   "execution_count": 7,
   "metadata": {},
   "outputs": [],
   "source": [
    "def get_price_drop(n):\n",
    "    return n.price_drop\n",
    "\n",
    "\n",
    "x.sort(key=get_price_drop, reverse=True)"
   ]
  },
  {
   "cell_type": "code",
   "execution_count": 8,
   "metadata": {},
   "outputs": [],
   "source": [
    "# for a in x:\n",
    "#     print(a.name, \":\" , a.msrp, \",\" , a.sale_price, \",\", a.price_drop)"
   ]
  },
  {
   "cell_type": "code",
   "execution_count": 9,
   "metadata": {},
   "outputs": [],
   "source": [
    "import pandas as pd\n",
    "\n",
    "rows_list = []\n",
    "for row in x:\n",
    "        dict1 = {}\n",
    "        dict1['name'] = row.name\n",
    "        dict1['original_price'] = row.msrp\n",
    "        dict1['discount_price'] = row.sale_price\n",
    "        dict1['price_drop'] = row.price_drop\n",
    "        dict1['percent_drop'] = row.percent_drop\n",
    "        \n",
    "        rows_list.append(dict1)\n",
    "        \n",
    "df = pd.DataFrame(data=rows_list, columns=['name', 'original_price', 'discount_price', 'price_drop', 'percent_drop'])\n"
   ]
  },
  {
   "cell_type": "code",
   "execution_count": 10,
   "metadata": {},
   "outputs": [],
   "source": [
    "df.to_csv(\"./output/saved_data.csv\")"
   ]
  },
  {
   "cell_type": "code",
   "execution_count": 11,
   "metadata": {},
   "outputs": [
    {
     "data": {
      "text/html": [
       "<div>\n",
       "<style scoped>\n",
       "    .dataframe tbody tr th:only-of-type {\n",
       "        vertical-align: middle;\n",
       "    }\n",
       "\n",
       "    .dataframe tbody tr th {\n",
       "        vertical-align: top;\n",
       "    }\n",
       "\n",
       "    .dataframe thead th {\n",
       "        text-align: right;\n",
       "    }\n",
       "</style>\n",
       "<table border=\"1\" class=\"dataframe\">\n",
       "  <thead>\n",
       "    <tr style=\"text-align: right;\">\n",
       "      <th></th>\n",
       "      <th>name</th>\n",
       "      <th>original_price</th>\n",
       "      <th>discount_price</th>\n",
       "      <th>price_drop</th>\n",
       "      <th>percent_drop</th>\n",
       "    </tr>\n",
       "  </thead>\n",
       "  <tbody>\n",
       "    <tr>\n",
       "      <td>0</td>\n",
       "      <td>SUPER DRAGON BALL HEROES WORLD MISSION</td>\n",
       "      <td>59.99</td>\n",
       "      <td>8.99</td>\n",
       "      <td>51.00</td>\n",
       "      <td>85.014169</td>\n",
       "    </tr>\n",
       "    <tr>\n",
       "      <td>1</td>\n",
       "      <td>SUPER DRAGON BALL HEROES WORLD MISSION</td>\n",
       "      <td>59.99</td>\n",
       "      <td>8.99</td>\n",
       "      <td>51.00</td>\n",
       "      <td>85.014169</td>\n",
       "    </tr>\n",
       "    <tr>\n",
       "      <td>2</td>\n",
       "      <td>SWORD ART ONLINE: FATAL BULLET Complete Edition</td>\n",
       "      <td>59.99</td>\n",
       "      <td>9.59</td>\n",
       "      <td>50.40</td>\n",
       "      <td>84.014002</td>\n",
       "    </tr>\n",
       "    <tr>\n",
       "      <td>3</td>\n",
       "      <td>DRAGON BALL FIGHTERZ</td>\n",
       "      <td>59.99</td>\n",
       "      <td>9.59</td>\n",
       "      <td>50.40</td>\n",
       "      <td>84.014002</td>\n",
       "    </tr>\n",
       "    <tr>\n",
       "      <td>4</td>\n",
       "      <td>LEGO® DC Super-Villains</td>\n",
       "      <td>59.99</td>\n",
       "      <td>11.99</td>\n",
       "      <td>48.00</td>\n",
       "      <td>80.013336</td>\n",
       "    </tr>\n",
       "    <tr>\n",
       "      <td>...</td>\n",
       "      <td>...</td>\n",
       "      <td>...</td>\n",
       "      <td>...</td>\n",
       "      <td>...</td>\n",
       "      <td>...</td>\n",
       "    </tr>\n",
       "    <tr>\n",
       "      <td>817</td>\n",
       "      <td>Hardcore Maze Cube</td>\n",
       "      <td>2.49</td>\n",
       "      <td>1.99</td>\n",
       "      <td>0.50</td>\n",
       "      <td>20.080321</td>\n",
       "    </tr>\n",
       "    <tr>\n",
       "      <td>818</td>\n",
       "      <td>Stealth</td>\n",
       "      <td>4.98</td>\n",
       "      <td>4.48</td>\n",
       "      <td>0.50</td>\n",
       "      <td>10.040161</td>\n",
       "    </tr>\n",
       "    <tr>\n",
       "      <td>819</td>\n",
       "      <td>Super Jumpy Ball</td>\n",
       "      <td>4.99</td>\n",
       "      <td>4.49</td>\n",
       "      <td>0.50</td>\n",
       "      <td>10.020040</td>\n",
       "    </tr>\n",
       "    <tr>\n",
       "      <td>820</td>\n",
       "      <td>Snake vs Snake</td>\n",
       "      <td>3.99</td>\n",
       "      <td>3.59</td>\n",
       "      <td>0.40</td>\n",
       "      <td>10.025063</td>\n",
       "    </tr>\n",
       "    <tr>\n",
       "      <td>821</td>\n",
       "      <td>O---O</td>\n",
       "      <td>3.49</td>\n",
       "      <td>3.14</td>\n",
       "      <td>0.35</td>\n",
       "      <td>10.028653</td>\n",
       "    </tr>\n",
       "  </tbody>\n",
       "</table>\n",
       "<p>822 rows × 5 columns</p>\n",
       "</div>"
      ],
      "text/plain": [
       "                                                name  original_price  \\\n",
       "0             SUPER DRAGON BALL HEROES WORLD MISSION           59.99   \n",
       "1             SUPER DRAGON BALL HEROES WORLD MISSION           59.99   \n",
       "2    SWORD ART ONLINE: FATAL BULLET Complete Edition           59.99   \n",
       "3                               DRAGON BALL FIGHTERZ           59.99   \n",
       "4                            LEGO® DC Super-Villains           59.99   \n",
       "..                                               ...             ...   \n",
       "817                               Hardcore Maze Cube            2.49   \n",
       "818                                          Stealth            4.98   \n",
       "819                                 Super Jumpy Ball            4.99   \n",
       "820                                   Snake vs Snake            3.99   \n",
       "821                                            O---O            3.49   \n",
       "\n",
       "     discount_price  price_drop  percent_drop  \n",
       "0              8.99       51.00     85.014169  \n",
       "1              8.99       51.00     85.014169  \n",
       "2              9.59       50.40     84.014002  \n",
       "3              9.59       50.40     84.014002  \n",
       "4             11.99       48.00     80.013336  \n",
       "..              ...         ...           ...  \n",
       "817            1.99        0.50     20.080321  \n",
       "818            4.48        0.50     10.040161  \n",
       "819            4.49        0.50     10.020040  \n",
       "820            3.59        0.40     10.025063  \n",
       "821            3.14        0.35     10.028653  \n",
       "\n",
       "[822 rows x 5 columns]"
      ]
     },
     "execution_count": 11,
     "metadata": {},
     "output_type": "execute_result"
    }
   ],
   "source": [
    "df"
   ]
  },
  {
   "cell_type": "code",
   "execution_count": 14,
   "metadata": {},
   "outputs": [
    {
     "data": {
      "text/html": [
       "<div>\n",
       "<style scoped>\n",
       "    .dataframe tbody tr th:only-of-type {\n",
       "        vertical-align: middle;\n",
       "    }\n",
       "\n",
       "    .dataframe tbody tr th {\n",
       "        vertical-align: top;\n",
       "    }\n",
       "\n",
       "    .dataframe thead th {\n",
       "        text-align: right;\n",
       "    }\n",
       "</style>\n",
       "<table border=\"1\" class=\"dataframe\">\n",
       "  <thead>\n",
       "    <tr style=\"text-align: right;\">\n",
       "      <th></th>\n",
       "      <th>name</th>\n",
       "      <th>original_price</th>\n",
       "      <th>discount_price</th>\n",
       "      <th>price_drop</th>\n",
       "      <th>percent_drop</th>\n",
       "    </tr>\n",
       "  </thead>\n",
       "  <tbody>\n",
       "    <tr>\n",
       "      <td>22</td>\n",
       "      <td>ATV Drift &amp; Tricks</td>\n",
       "      <td>34.99</td>\n",
       "      <td>1.99</td>\n",
       "      <td>33.0</td>\n",
       "      <td>94.312661</td>\n",
       "    </tr>\n",
       "    <tr>\n",
       "      <td>36</td>\n",
       "      <td>Syberia 2</td>\n",
       "      <td>29.99</td>\n",
       "      <td>1.99</td>\n",
       "      <td>28.0</td>\n",
       "      <td>93.364455</td>\n",
       "    </tr>\n",
       "    <tr>\n",
       "      <td>71</td>\n",
       "      <td>Sin Slayers</td>\n",
       "      <td>19.99</td>\n",
       "      <td>1.99</td>\n",
       "      <td>18.0</td>\n",
       "      <td>90.045023</td>\n",
       "    </tr>\n",
       "    <tr>\n",
       "      <td>83</td>\n",
       "      <td>Hard West</td>\n",
       "      <td>19.99</td>\n",
       "      <td>1.99</td>\n",
       "      <td>18.0</td>\n",
       "      <td>90.045023</td>\n",
       "    </tr>\n",
       "    <tr>\n",
       "      <td>68</td>\n",
       "      <td>Ultimate Fishing Simulator</td>\n",
       "      <td>19.99</td>\n",
       "      <td>1.99</td>\n",
       "      <td>18.0</td>\n",
       "      <td>90.045023</td>\n",
       "    </tr>\n",
       "    <tr>\n",
       "      <td>...</td>\n",
       "      <td>...</td>\n",
       "      <td>...</td>\n",
       "      <td>...</td>\n",
       "      <td>...</td>\n",
       "      <td>...</td>\n",
       "    </tr>\n",
       "    <tr>\n",
       "      <td>649</td>\n",
       "      <td>Sunless Skies: Sovereign Edition</td>\n",
       "      <td>24.99</td>\n",
       "      <td>22.49</td>\n",
       "      <td>2.5</td>\n",
       "      <td>10.004002</td>\n",
       "    </tr>\n",
       "    <tr>\n",
       "      <td>561</td>\n",
       "      <td>Layers of Fear 2</td>\n",
       "      <td>29.99</td>\n",
       "      <td>26.99</td>\n",
       "      <td>3.0</td>\n",
       "      <td>10.003334</td>\n",
       "    </tr>\n",
       "    <tr>\n",
       "      <td>422</td>\n",
       "      <td>Bakumatsu Renka SHINSENGUMI</td>\n",
       "      <td>49.99</td>\n",
       "      <td>44.99</td>\n",
       "      <td>5.0</td>\n",
       "      <td>10.002000</td>\n",
       "    </tr>\n",
       "    <tr>\n",
       "      <td>423</td>\n",
       "      <td>NINJA GAIDEN: Master Collection Deluxe Edition</td>\n",
       "      <td>49.99</td>\n",
       "      <td>44.99</td>\n",
       "      <td>5.0</td>\n",
       "      <td>10.002000</td>\n",
       "    </tr>\n",
       "    <tr>\n",
       "      <td>424</td>\n",
       "      <td>Port Royale 4</td>\n",
       "      <td>49.99</td>\n",
       "      <td>44.99</td>\n",
       "      <td>5.0</td>\n",
       "      <td>10.002000</td>\n",
       "    </tr>\n",
       "  </tbody>\n",
       "</table>\n",
       "<p>822 rows × 5 columns</p>\n",
       "</div>"
      ],
      "text/plain": [
       "                                               name  original_price  \\\n",
       "22                               ATV Drift & Tricks           34.99   \n",
       "36                                        Syberia 2           29.99   \n",
       "71                                      Sin Slayers           19.99   \n",
       "83                                        Hard West           19.99   \n",
       "68                       Ultimate Fishing Simulator           19.99   \n",
       "..                                              ...             ...   \n",
       "649                Sunless Skies: Sovereign Edition           24.99   \n",
       "561                                Layers of Fear 2           29.99   \n",
       "422                     Bakumatsu Renka SHINSENGUMI           49.99   \n",
       "423  NINJA GAIDEN: Master Collection Deluxe Edition           49.99   \n",
       "424                                   Port Royale 4           49.99   \n",
       "\n",
       "     discount_price  price_drop  percent_drop  \n",
       "22             1.99        33.0     94.312661  \n",
       "36             1.99        28.0     93.364455  \n",
       "71             1.99        18.0     90.045023  \n",
       "83             1.99        18.0     90.045023  \n",
       "68             1.99        18.0     90.045023  \n",
       "..              ...         ...           ...  \n",
       "649           22.49         2.5     10.004002  \n",
       "561           26.99         3.0     10.003334  \n",
       "422           44.99         5.0     10.002000  \n",
       "423           44.99         5.0     10.002000  \n",
       "424           44.99         5.0     10.002000  \n",
       "\n",
       "[822 rows x 5 columns]"
      ]
     },
     "execution_count": 14,
     "metadata": {},
     "output_type": "execute_result"
    }
   ],
   "source": [
    "df.sort_values(by='percent_drop',ascending=False)"
   ]
  },
  {
   "cell_type": "code",
   "execution_count": 28,
   "metadata": {
    "scrolled": true
   },
   "outputs": [
    {
     "data": {
      "text/plain": [
       "<matplotlib.axes._subplots.AxesSubplot at 0x123c1bfd0>"
      ]
     },
     "execution_count": 28,
     "metadata": {},
     "output_type": "execute_result"
    },
    {
     "data": {
      "image/png": "[encoded data removed]",
      "text/plain": [
       "<Figure size 1080x504 with 1 Axes>"
      ]
     },
     "metadata": {
      "needs_background": "light"
     },
     "output_type": "display_data"
    }
   ],
   "source": [
    "df.plot(x='original_price', y='percent_drop', figsize=(15,7), kind='scatter')"
   ]
  },
  {
   "cell_type": "code",
   "execution_count": 29,
   "metadata": {},
   "outputs": [
    {
     "data": {
      "text/plain": [
       "<matplotlib.axes._subplots.AxesSubplot at 0x123cc49d0>"
      ]
     },
     "execution_count": 29,
     "metadata": {},
     "output_type": "execute_result"
    },
    {
     "data": {
      "image/png": "[encoded data removed]",
      "text/plain": [
       "<Figure size 432x288 with 1 Axes>"
      ]
     },
     "metadata": {
      "needs_background": "light"
     },
     "output_type": "display_data"
    }
   ],
   "source": [
    "df['original_price'].hist()"
   ]
  },
  {
   "cell_type": "code",
   "execution_count": 31,
   "metadata": {},
   "outputs": [
    {
     "data": {
      "text/plain": [
       "<bound method PlotAccessor.pie of <pandas.plotting._core.PlotAccessor object at 0x1277c33d0>>"
      ]
     },
     "execution_count": 31,
     "metadata": {},
     "output_type": "execute_result"
    }
   ],
   "source": [
    "df.plot(x='original_price', y='percent_drop', figsize=(15,7), kind='scatter')"
   ]
  },
  {
   "cell_type": "code",
   "execution_count": null,
   "metadata": {},
   "outputs": [],
   "source": []
  },
  {
   "cell_type": "code",
   "execution_count": null,
   "metadata": {},
   "outputs": [],
   "source": []
  }
 ],
 "metadata": {
  "kernelspec": {
   "display_name": "Python 3",
   "language": "python",
   "name": "python3"
  },
  "language_info": {
   "codemirror_mode": {
    "name": "ipython",
    "version": 3
   },
   "file_extension": ".py",
   "mimetype": "text/x-python",
   "name": "python",
   "nbconvert_exporter": "python",
   "pygments_lexer": "ipython3",
   "version": "3.7.4"
  }
 },
 "nbformat": 4,
 "nbformat_minor": 2
}
