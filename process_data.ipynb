{
 "cells": [
  {
   "cell_type": "markdown",
   "metadata": {},
   "source": [
    "# Simple largest price drop program\n",
    "\n",
    "\n",
    "Prerequisite:\n",
    "- go to nintendo.com\n",
    "- load all games you want\n",
    "- view page source\n",
    "- copy ul (class='game-list-results-container')\n",
    "- paste to data.txt\n",
    "- run script"
   ]
  },
  {
   "cell_type": "code",
   "execution_count": 1,
   "metadata": {},
   "outputs": [],
   "source": [
    "from bs4 import BeautifulSoup\n",
    "\n",
    "data = open('data.txt', 'r').read()\n",
    "soup = BeautifulSoup(data, 'html.parser')"
   ]
  },
  {
   "cell_type": "code",
   "execution_count": 2,
   "metadata": {},
   "outputs": [],
   "source": [
    "class save_data_object:\n",
    "    def __init__(self, msrp, sale_price, name):\n",
    "        self.msrp = float(msrp)\n",
    "        self.sale_price = float(sale_price)\n",
    "        self.price_drop = self.msrp - self.sale_price\n",
    "        self.name = name"
   ]
  },
  {
   "cell_type": "code",
   "execution_count": 3,
   "metadata": {},
   "outputs": [],
   "source": [
    "result = soup.find_all(\"ul\", {\"class\": \"game-list-results-container\"})\n",
    "x = result[0].find_all('game-tile')\n",
    "# x = soup.ul.find_all('game-tile')"
   ]
  },
  {
   "cell_type": "code",
   "execution_count": 4,
   "metadata": {},
   "outputs": [],
   "source": [
    "# x[:1]"
   ]
  },
  {
   "cell_type": "code",
   "execution_count": 5,
   "metadata": {},
   "outputs": [],
   "source": [
    "# x"
   ]
  },
  {
   "cell_type": "code",
   "execution_count": 6,
   "metadata": {},
   "outputs": [],
   "source": [
    "#x[0].get('date')\n",
    "def myfunc(n):\n",
    "    return save_data_object(n.get('msrp')[1:], n.get('sale-price')[1:], n.h3.string)\n",
    "x = list(map(myfunc, x))"
   ]
  },
  {
   "cell_type": "code",
   "execution_count": 7,
   "metadata": {},
   "outputs": [],
   "source": [
    "def get_price_drop(n):\n",
    "    return n.price_drop\n",
    "\n",
    "\n",
    "x.sort(key=get_price_drop, reverse=True)"
   ]
  },
  {
   "cell_type": "code",
   "execution_count": 8,
   "metadata": {},
   "outputs": [
    {
     "name": "stdout",
     "output_type": "stream",
     "text": [
      "LOVE - A Puzzle Box Filled with Stories : 19.99 , 9.99 , 9.999999999999998\n",
      "Leisure Suit Larry - Wet Dreams Dry Twice : 44.99 , 35.99 , 9.0\n",
      "Bakumatsu Renka SHINSENGUMI : 49.99 , 44.99 , 5.0\n",
      "NINJA GAIDEN: Master Collection Deluxe Edition : 49.99 , 44.99 , 5.0\n",
      "Port Royale 4 : 49.99 , 44.99 , 5.0\n",
      "Connect Color Dots: Fun Water Flow Pipe Line Art Puzzle Game : 9.95 , 4.97 , 4.9799999999999995\n",
      "Skellboy Refractured : 20.0 , 16.0 , 4.0\n",
      "#Wish travel, Super Puzzles Dream : 5.99 , 1.99 , 4.0\n",
      "Exodemon : 12.99 , 9.74 , 3.25\n",
      "Pathway : 15.99 , 12.79 , 3.200000000000001\n",
      "Driving World: Aspen : 11.99 , 8.99 , 3.0\n",
      "Just Die Already : 14.99 , 11.99 , 3.0\n",
      "Layers of Fear 2 : 29.99 , 26.99 , 3.0\n",
      "Off And On Again : 14.0 , 11.2 , 2.8000000000000007\n",
      "Route Me Mail and Delivery Co : 7.99 , 5.19 , 2.8\n",
      "ENDER LILIES: Quietus of the Knights : 24.99 , 22.49 , 2.5\n",
      "Crying Suns : 24.99 , 22.49 , 2.5\n",
      "Sunless Skies: Sovereign Edition : 24.99 , 22.49 , 2.5\n",
      "Mini Car Racing : 7.99 , 5.59 , 2.4000000000000004\n",
      "Sludge Life : 14.99 , 12.74 , 2.25\n",
      "BEAUTIFUL DESOLATION : 19.99 , 17.99 , 2.0\n",
      "Sakura Succubus 2 : 9.99 , 7.99 , 2.0\n",
      "Jetboard Joust : 9.99 , 7.99 , 2.0\n",
      "Chess Knights: Shinobi : 3.99 , 1.99 , 2.0\n",
      "Rise Eterna : 19.99 , 17.99 , 2.0\n",
      "Space Commander: War and Trade : 9.99 , 7.99 , 2.0\n",
      "Cape's Escape Game 2.5th Room : 4.9 , 3.0 , 1.9000000000000004\n",
      "Turbo Skiddy Racing : 4.99 , 3.49 , 1.5\n",
      "Fire: Ungh’s Quest : 14.99 , 13.49 , 1.5\n",
      "Aerial_Knight's Never Yield : 11.99 , 10.79 , 1.200000000000001\n",
      "Invirium : 7.99 , 6.79 , 1.2000000000000002\n",
      "Bounce Mania : 3.99 , 2.79 , 1.2000000000000002\n",
      "Long Ago: A Puzzle Tale : 9.99 , 8.99 , 1.0\n",
      "Cosmic Top Secret : 9.99 , 8.99 , 1.0\n",
      "Guards : 4.99 , 3.99 , 1.0\n",
      "Gutwhale : 4.99 , 3.99 , 1.0\n",
      "0 Degrees : 4.99 , 3.99 , 1.0\n",
      "Rabisco+ : 4.99 , 3.99 , 1.0\n",
      "Quantum Replica : 9.99 , 8.99 , 1.0\n",
      "Rift Racoon : 4.99 , 3.99 , 1.0\n",
      "Wicce : 7.99 , 7.19 , 0.7999999999999998\n",
      "O---O : 3.49 , 3.14 , 0.3500000000000001\n"
     ]
    }
   ],
   "source": [
    "for a in x:\n",
    "    print(a.name, \":\" , a.msrp, \",\" , a.sale_price, \",\", a.price_drop)"
   ]
  },
  {
   "cell_type": "code",
   "execution_count": 16,
   "metadata": {},
   "outputs": [],
   "source": [
    "import pandas as pd\n",
    "\n",
    "rows_list = []\n",
    "for row in x:\n",
    "        dict1 = {}\n",
    "        dict1['name'] = row.name\n",
    "        dict1['original_price'] = row.msrp\n",
    "        dict1['discount_price'] = row.sale_price\n",
    "        dict1['price_drop'] = row.price_drop\n",
    "        \n",
    "        rows_list.append(dict1)\n",
    "        \n",
    "df = pd.DataFrame(data=rows_list, columns=['name', 'original_price', 'discount_price', 'price_drop'])\n"
   ]
  },
  {
   "cell_type": "code",
   "execution_count": 18,
   "metadata": {},
   "outputs": [],
   "source": [
    "df.to_csv(\"./output/saved_data.csv\")"
   ]
  },
  {
   "cell_type": "code",
   "execution_count": null,
   "metadata": {},
   "outputs": [],
   "source": []
  }
 ],
 "metadata": {
  "kernelspec": {
   "display_name": "Python 3",
   "language": "python",
   "name": "python3"
  },
  "language_info": {
   "codemirror_mode": {
    "name": "ipython",
    "version": 3
   },
   "file_extension": ".py",
   "mimetype": "text/x-python",
   "name": "python",
   "nbconvert_exporter": "python",
   "pygments_lexer": "ipython3",
   "version": "3.7.4"
  }
 },
 "nbformat": 4,
 "nbformat_minor": 2
}
